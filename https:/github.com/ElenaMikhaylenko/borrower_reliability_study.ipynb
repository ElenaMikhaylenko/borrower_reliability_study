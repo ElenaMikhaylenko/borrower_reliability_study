{
 "cells": [
  {
   "cell_type": "markdown",
   "id": "c5dad4ab",
   "metadata": {},
   "source": [
    "# Исследование надежности заемщиков"
   ]
  },
  {
   "cell_type": "markdown",
   "id": "807351cb",
   "metadata": {},
   "source": [
    "### Данные\n",
    "\n",
    " - children — количество детей в семье\n",
    " - days_employed — общий трудовой стаж в днях\n",
    " - dob_years — возраст клиента в годах\n",
    " - education — уровень образования клиента\n",
    " - education_id — идентификатор уровня образования\n",
    " - family_status — семейное положение\n",
    " - family_status_id — идентификатор семейного положения\n",
    " - gender — пол клиента\n",
    " - income_type — тип занятости\n",
    " - debt — имел ли задолженность по возврату кредитов\n",
    " - total_income — ежемесячный доход\n",
    " - purpose — цель получения кредита"
   ]
  },
  {
   "cell_type": "markdown",
   "id": "6995020d",
   "metadata": {},
   "source": [
    "### Цель\n",
    "\n",
    "Влияние различных факторов на факт погашения кредита в срок."
   ]
  },
  {
   "cell_type": "markdown",
   "id": "553d1f7a",
   "metadata": {},
   "source": [
    "### Гипотезы\n",
    "\n",
    " - Количество детей влияет на факт погашения кредита в срок;\n",
    " - Семейное положение влияет на факт погашения кредита в срок;\n",
    " - Уровень дохода влияет на факт погашения кредита в срок;\n",
    " - Цели кредита влияют на факт погашения кредита в срок."
   ]
  },
  {
   "cell_type": "code",
   "execution_count": 32,
   "id": "1ecbada2",
   "metadata": {},
   "outputs": [],
   "source": [
    "import pandas as pd"
   ]
  },
  {
   "cell_type": "code",
   "execution_count": 33,
   "id": "5697d68c",
   "metadata": {},
   "outputs": [
    {
     "data": {
      "text/html": [
       "<div>\n",
       "<style scoped>\n",
       "    .dataframe tbody tr th:only-of-type {\n",
       "        vertical-align: middle;\n",
       "    }\n",
       "\n",
       "    .dataframe tbody tr th {\n",
       "        vertical-align: top;\n",
       "    }\n",
       "\n",
       "    .dataframe thead th {\n",
       "        text-align: right;\n",
       "    }\n",
       "</style>\n",
       "<table border=\"1\" class=\"dataframe\">\n",
       "  <thead>\n",
       "    <tr style=\"text-align: right;\">\n",
       "      <th></th>\n",
       "      <th>children</th>\n",
       "      <th>days_employed</th>\n",
       "      <th>dob_years</th>\n",
       "      <th>education</th>\n",
       "      <th>education_id</th>\n",
       "      <th>family_status</th>\n",
       "      <th>family_status_id</th>\n",
       "      <th>gender</th>\n",
       "      <th>income_type</th>\n",
       "      <th>debt</th>\n",
       "      <th>total_income</th>\n",
       "      <th>purpose</th>\n",
       "    </tr>\n",
       "  </thead>\n",
       "  <tbody>\n",
       "    <tr>\n",
       "      <th>0</th>\n",
       "      <td>1</td>\n",
       "      <td>-8437.673028</td>\n",
       "      <td>42</td>\n",
       "      <td>высшее</td>\n",
       "      <td>0</td>\n",
       "      <td>женат / замужем</td>\n",
       "      <td>0</td>\n",
       "      <td>F</td>\n",
       "      <td>сотрудник</td>\n",
       "      <td>0</td>\n",
       "      <td>253875.639453</td>\n",
       "      <td>покупка жилья</td>\n",
       "    </tr>\n",
       "    <tr>\n",
       "      <th>1</th>\n",
       "      <td>1</td>\n",
       "      <td>-4024.803754</td>\n",
       "      <td>36</td>\n",
       "      <td>среднее</td>\n",
       "      <td>1</td>\n",
       "      <td>женат / замужем</td>\n",
       "      <td>0</td>\n",
       "      <td>F</td>\n",
       "      <td>сотрудник</td>\n",
       "      <td>0</td>\n",
       "      <td>112080.014102</td>\n",
       "      <td>приобретение автомобиля</td>\n",
       "    </tr>\n",
       "    <tr>\n",
       "      <th>2</th>\n",
       "      <td>0</td>\n",
       "      <td>-5623.422610</td>\n",
       "      <td>33</td>\n",
       "      <td>Среднее</td>\n",
       "      <td>1</td>\n",
       "      <td>женат / замужем</td>\n",
       "      <td>0</td>\n",
       "      <td>M</td>\n",
       "      <td>сотрудник</td>\n",
       "      <td>0</td>\n",
       "      <td>145885.952297</td>\n",
       "      <td>покупка жилья</td>\n",
       "    </tr>\n",
       "    <tr>\n",
       "      <th>3</th>\n",
       "      <td>3</td>\n",
       "      <td>-4124.747207</td>\n",
       "      <td>32</td>\n",
       "      <td>среднее</td>\n",
       "      <td>1</td>\n",
       "      <td>женат / замужем</td>\n",
       "      <td>0</td>\n",
       "      <td>M</td>\n",
       "      <td>сотрудник</td>\n",
       "      <td>0</td>\n",
       "      <td>267628.550329</td>\n",
       "      <td>дополнительное образование</td>\n",
       "    </tr>\n",
       "    <tr>\n",
       "      <th>4</th>\n",
       "      <td>0</td>\n",
       "      <td>340266.072047</td>\n",
       "      <td>53</td>\n",
       "      <td>среднее</td>\n",
       "      <td>1</td>\n",
       "      <td>гражданский брак</td>\n",
       "      <td>1</td>\n",
       "      <td>F</td>\n",
       "      <td>пенсионер</td>\n",
       "      <td>0</td>\n",
       "      <td>158616.077870</td>\n",
       "      <td>сыграть свадьбу</td>\n",
       "    </tr>\n",
       "    <tr>\n",
       "      <th>...</th>\n",
       "      <td>...</td>\n",
       "      <td>...</td>\n",
       "      <td>...</td>\n",
       "      <td>...</td>\n",
       "      <td>...</td>\n",
       "      <td>...</td>\n",
       "      <td>...</td>\n",
       "      <td>...</td>\n",
       "      <td>...</td>\n",
       "      <td>...</td>\n",
       "      <td>...</td>\n",
       "      <td>...</td>\n",
       "    </tr>\n",
       "    <tr>\n",
       "      <th>21520</th>\n",
       "      <td>1</td>\n",
       "      <td>-4529.316663</td>\n",
       "      <td>43</td>\n",
       "      <td>среднее</td>\n",
       "      <td>1</td>\n",
       "      <td>гражданский брак</td>\n",
       "      <td>1</td>\n",
       "      <td>F</td>\n",
       "      <td>компаньон</td>\n",
       "      <td>0</td>\n",
       "      <td>224791.862382</td>\n",
       "      <td>операции с жильем</td>\n",
       "    </tr>\n",
       "    <tr>\n",
       "      <th>21521</th>\n",
       "      <td>0</td>\n",
       "      <td>343937.404131</td>\n",
       "      <td>67</td>\n",
       "      <td>среднее</td>\n",
       "      <td>1</td>\n",
       "      <td>женат / замужем</td>\n",
       "      <td>0</td>\n",
       "      <td>F</td>\n",
       "      <td>пенсионер</td>\n",
       "      <td>0</td>\n",
       "      <td>155999.806512</td>\n",
       "      <td>сделка с автомобилем</td>\n",
       "    </tr>\n",
       "    <tr>\n",
       "      <th>21522</th>\n",
       "      <td>1</td>\n",
       "      <td>-2113.346888</td>\n",
       "      <td>38</td>\n",
       "      <td>среднее</td>\n",
       "      <td>1</td>\n",
       "      <td>гражданский брак</td>\n",
       "      <td>1</td>\n",
       "      <td>M</td>\n",
       "      <td>сотрудник</td>\n",
       "      <td>1</td>\n",
       "      <td>89672.561153</td>\n",
       "      <td>недвижимость</td>\n",
       "    </tr>\n",
       "    <tr>\n",
       "      <th>21523</th>\n",
       "      <td>3</td>\n",
       "      <td>-3112.481705</td>\n",
       "      <td>38</td>\n",
       "      <td>среднее</td>\n",
       "      <td>1</td>\n",
       "      <td>женат / замужем</td>\n",
       "      <td>0</td>\n",
       "      <td>M</td>\n",
       "      <td>сотрудник</td>\n",
       "      <td>1</td>\n",
       "      <td>244093.050500</td>\n",
       "      <td>на покупку своего автомобиля</td>\n",
       "    </tr>\n",
       "    <tr>\n",
       "      <th>21524</th>\n",
       "      <td>2</td>\n",
       "      <td>-1984.507589</td>\n",
       "      <td>40</td>\n",
       "      <td>среднее</td>\n",
       "      <td>1</td>\n",
       "      <td>женат / замужем</td>\n",
       "      <td>0</td>\n",
       "      <td>F</td>\n",
       "      <td>сотрудник</td>\n",
       "      <td>0</td>\n",
       "      <td>82047.418899</td>\n",
       "      <td>на покупку автомобиля</td>\n",
       "    </tr>\n",
       "  </tbody>\n",
       "</table>\n",
       "<p>21525 rows × 12 columns</p>\n",
       "</div>"
      ],
      "text/plain": [
       "       children  days_employed  dob_years education  education_id  \\\n",
       "0             1   -8437.673028         42    высшее             0   \n",
       "1             1   -4024.803754         36   среднее             1   \n",
       "2             0   -5623.422610         33   Среднее             1   \n",
       "3             3   -4124.747207         32   среднее             1   \n",
       "4             0  340266.072047         53   среднее             1   \n",
       "...         ...            ...        ...       ...           ...   \n",
       "21520         1   -4529.316663         43   среднее             1   \n",
       "21521         0  343937.404131         67   среднее             1   \n",
       "21522         1   -2113.346888         38   среднее             1   \n",
       "21523         3   -3112.481705         38   среднее             1   \n",
       "21524         2   -1984.507589         40   среднее             1   \n",
       "\n",
       "          family_status  family_status_id gender income_type  debt  \\\n",
       "0       женат / замужем                 0      F   сотрудник     0   \n",
       "1       женат / замужем                 0      F   сотрудник     0   \n",
       "2       женат / замужем                 0      M   сотрудник     0   \n",
       "3       женат / замужем                 0      M   сотрудник     0   \n",
       "4      гражданский брак                 1      F   пенсионер     0   \n",
       "...                 ...               ...    ...         ...   ...   \n",
       "21520  гражданский брак                 1      F   компаньон     0   \n",
       "21521   женат / замужем                 0      F   пенсионер     0   \n",
       "21522  гражданский брак                 1      M   сотрудник     1   \n",
       "21523   женат / замужем                 0      M   сотрудник     1   \n",
       "21524   женат / замужем                 0      F   сотрудник     0   \n",
       "\n",
       "        total_income                       purpose  \n",
       "0      253875.639453                 покупка жилья  \n",
       "1      112080.014102       приобретение автомобиля  \n",
       "2      145885.952297                 покупка жилья  \n",
       "3      267628.550329    дополнительное образование  \n",
       "4      158616.077870               сыграть свадьбу  \n",
       "...              ...                           ...  \n",
       "21520  224791.862382             операции с жильем  \n",
       "21521  155999.806512          сделка с автомобилем  \n",
       "21522   89672.561153                  недвижимость  \n",
       "21523  244093.050500  на покупку своего автомобиля  \n",
       "21524   82047.418899         на покупку автомобиля  \n",
       "\n",
       "[21525 rows x 12 columns]"
      ]
     },
     "execution_count": 33,
     "metadata": {},
     "output_type": "execute_result"
    }
   ],
   "source": [
    "data = pd.read_csv('C:/Users/emmik/Downloads/data.csv')\n",
    "data"
   ]
  },
  {
   "cell_type": "markdown",
   "id": "ad925bde",
   "metadata": {},
   "source": []
  },
  {
   "cell_type": "markdown",
   "id": "695e408d",
   "metadata": {},
   "source": [
    "### Этап 1. Предобработка данных"
   ]
  },
  {
   "cell_type": "code",
   "execution_count": 34,
   "id": "34822ae7",
   "metadata": {},
   "outputs": [
    {
     "name": "stdout",
     "output_type": "stream",
     "text": [
      "<class 'pandas.core.frame.DataFrame'>\n",
      "RangeIndex: 21525 entries, 0 to 21524\n",
      "Data columns (total 12 columns):\n",
      " #   Column            Non-Null Count  Dtype  \n",
      "---  ------            --------------  -----  \n",
      " 0   children          21525 non-null  int64  \n",
      " 1   days_employed     19351 non-null  float64\n",
      " 2   dob_years         21525 non-null  int64  \n",
      " 3   education         21525 non-null  object \n",
      " 4   education_id      21525 non-null  int64  \n",
      " 5   family_status     21525 non-null  object \n",
      " 6   family_status_id  21525 non-null  int64  \n",
      " 7   gender            21525 non-null  object \n",
      " 8   income_type       21525 non-null  object \n",
      " 9   debt              21525 non-null  int64  \n",
      " 10  total_income      19351 non-null  float64\n",
      " 11  purpose           21525 non-null  object \n",
      "dtypes: float64(2), int64(5), object(5)\n",
      "memory usage: 2.0+ MB\n"
     ]
    }
   ],
   "source": [
    "data.info()"
   ]
  },
  {
   "cell_type": "code",
   "execution_count": 35,
   "id": "b92702f0",
   "metadata": {},
   "outputs": [
    {
     "data": {
      "text/plain": [
       "children               0\n",
       "days_employed       2174\n",
       "dob_years              0\n",
       "education              0\n",
       "education_id           0\n",
       "family_status          0\n",
       "family_status_id       0\n",
       "gender                 0\n",
       "income_type            0\n",
       "debt                   0\n",
       "total_income        2174\n",
       "purpose                0\n",
       "dtype: int64"
      ]
     },
     "execution_count": 35,
     "metadata": {},
     "output_type": "execute_result"
    }
   ],
   "source": [
    "data.isna().sum()"
   ]
  },
  {
   "cell_type": "code",
   "execution_count": 36,
   "id": "e74c4d2a",
   "metadata": {},
   "outputs": [],
   "source": [
    "for t in data['income_type'].unique():\n",
    "    data.loc[(data['income_type'] == t) & (data['total_income'].isna()), 'total_income'] = \\\n",
    "    data.loc[(data['income_type'] == t), 'total_income'].median()"
   ]
  },
  {
   "cell_type": "code",
   "execution_count": 37,
   "id": "9a9c1ceb",
   "metadata": {},
   "outputs": [],
   "source": [
    "data['days_employed'] = data['days_employed'].abs()"
   ]
  },
  {
   "cell_type": "code",
   "execution_count": 38,
   "id": "d447d6c2",
   "metadata": {},
   "outputs": [
    {
     "data": {
      "text/plain": [
       "income_type\n",
       "безработный        366413.652744\n",
       "в декрете            3296.759962\n",
       "госслужащий          2689.368353\n",
       "компаньон            1547.382223\n",
       "пенсионер          365213.306266\n",
       "предприниматель       520.848083\n",
       "сотрудник            1574.202821\n",
       "студент               578.751554\n",
       "Name: days_employed, dtype: float64"
      ]
     },
     "execution_count": 38,
     "metadata": {},
     "output_type": "execute_result"
    }
   ],
   "source": [
    "data.groupby('income_type')['days_employed'].agg('median')"
   ]
  },
  {
   "cell_type": "code",
   "execution_count": 39,
   "id": "58b506b2",
   "metadata": {},
   "outputs": [
    {
     "data": {
      "text/plain": [
       "array([ 1,  0,  3,  2, -1,  4, 20,  5], dtype=int64)"
      ]
     },
     "execution_count": 39,
     "metadata": {},
     "output_type": "execute_result"
    }
   ],
   "source": [
    "data['children'].unique()"
   ]
  },
  {
   "cell_type": "code",
   "execution_count": 40,
   "id": "5848d03f",
   "metadata": {},
   "outputs": [],
   "source": [
    "data = data[(data['children'] != -1) & (data['children'] != 20)]"
   ]
  },
  {
   "cell_type": "code",
   "execution_count": 41,
   "id": "5327f614",
   "metadata": {},
   "outputs": [
    {
     "data": {
      "text/plain": [
       "array([1, 0, 3, 2, 4, 5], dtype=int64)"
      ]
     },
     "execution_count": 41,
     "metadata": {},
     "output_type": "execute_result"
    }
   ],
   "source": [
    "data['children'].unique()"
   ]
  },
  {
   "cell_type": "code",
   "execution_count": 42,
   "id": "5f060954",
   "metadata": {},
   "outputs": [],
   "source": [
    "for t in data['income_type'].unique():\n",
    "    data.loc[(data['income_type'] == t) & (data['days_employed'].isna()), 'days_employed'] = \\\n",
    "    data.loc[(data['income_type'] == t), 'days_employed'].median()"
   ]
  },
  {
   "cell_type": "code",
   "execution_count": 43,
   "id": "c630e06c",
   "metadata": {},
   "outputs": [
    {
     "data": {
      "text/plain": [
       "children            0\n",
       "days_employed       0\n",
       "dob_years           0\n",
       "education           0\n",
       "education_id        0\n",
       "family_status       0\n",
       "family_status_id    0\n",
       "gender              0\n",
       "income_type         0\n",
       "debt                0\n",
       "total_income        0\n",
       "purpose             0\n",
       "dtype: int64"
      ]
     },
     "execution_count": 43,
     "metadata": {},
     "output_type": "execute_result"
    }
   ],
   "source": [
    "data.isna().sum()"
   ]
  },
  {
   "cell_type": "code",
   "execution_count": 44,
   "id": "e0edf11d",
   "metadata": {},
   "outputs": [
    {
     "name": "stderr",
     "output_type": "stream",
     "text": [
      "C:\\Users\\emmik\\AppData\\Local\\Temp\\ipykernel_3388\\1002644910.py:1: SettingWithCopyWarning: \n",
      "A value is trying to be set on a copy of a slice from a DataFrame.\n",
      "Try using .loc[row_indexer,col_indexer] = value instead\n",
      "\n",
      "See the caveats in the documentation: https://pandas.pydata.org/pandas-docs/stable/user_guide/indexing.html#returning-a-view-versus-a-copy\n",
      "  data['total_income'] = data['total_income'].astype(int)\n"
     ]
    }
   ],
   "source": [
    "data['total_income'] = data['total_income'].astype(int)"
   ]
  },
  {
   "cell_type": "code",
   "execution_count": 45,
   "id": "085ba44b",
   "metadata": {},
   "outputs": [
    {
     "name": "stderr",
     "output_type": "stream",
     "text": [
      "C:\\Users\\emmik\\AppData\\Local\\Temp\\ipykernel_3388\\3990672150.py:1: SettingWithCopyWarning: \n",
      "A value is trying to be set on a copy of a slice from a DataFrame.\n",
      "Try using .loc[row_indexer,col_indexer] = value instead\n",
      "\n",
      "See the caveats in the documentation: https://pandas.pydata.org/pandas-docs/stable/user_guide/indexing.html#returning-a-view-versus-a-copy\n",
      "  data['education'] = data['education'].str.lower()\n"
     ]
    }
   ],
   "source": [
    "data['education'] = data['education'].str.lower()"
   ]
  },
  {
   "cell_type": "code",
   "execution_count": 46,
   "id": "8212288a",
   "metadata": {},
   "outputs": [
    {
     "data": {
      "text/plain": [
       "71"
      ]
     },
     "execution_count": 46,
     "metadata": {},
     "output_type": "execute_result"
    }
   ],
   "source": [
    "data.duplicated().sum()"
   ]
  },
  {
   "cell_type": "code",
   "execution_count": 47,
   "id": "497cb5bc",
   "metadata": {},
   "outputs": [],
   "source": [
    "data = data.drop_duplicates()"
   ]
  },
  {
   "cell_type": "code",
   "execution_count": 48,
   "id": "d72a5aa2",
   "metadata": {},
   "outputs": [],
   "source": [
    "def categorize_income(income):\n",
    "    try:\n",
    "        if 0 <= income <= 30000:\n",
    "            return 'E'\n",
    "        elif 30001 <= income <= 50000:\n",
    "            return 'D'\n",
    "        elif 50001 <= income <= 200000:\n",
    "            return 'C'\n",
    "        elif 200001 <= income <= 1000000:\n",
    "            return 'B'\n",
    "        elif income >= 1000001:\n",
    "            return 'A'\n",
    "    except:\n",
    "        pass"
   ]
  },
  {
   "cell_type": "code",
   "execution_count": 49,
   "id": "d529b153",
   "metadata": {},
   "outputs": [],
   "source": [
    "data['total_income_category'] = data['total_income'].apply(categorize_income)"
   ]
  },
  {
   "cell_type": "code",
   "execution_count": 50,
   "id": "644cccdd",
   "metadata": {},
   "outputs": [
    {
     "data": {
      "text/plain": [
       "array(['покупка жилья', 'приобретение автомобиля',\n",
       "       'дополнительное образование', 'сыграть свадьбу',\n",
       "       'операции с жильем', 'образование', 'на проведение свадьбы',\n",
       "       'покупка жилья для семьи', 'покупка недвижимости',\n",
       "       'покупка коммерческой недвижимости', 'покупка жилой недвижимости',\n",
       "       'строительство собственной недвижимости', 'недвижимость',\n",
       "       'строительство недвижимости', 'на покупку подержанного автомобиля',\n",
       "       'на покупку своего автомобиля',\n",
       "       'операции с коммерческой недвижимостью',\n",
       "       'строительство жилой недвижимости', 'жилье',\n",
       "       'операции со своей недвижимостью', 'автомобили',\n",
       "       'заняться образованием', 'сделка с подержанным автомобилем',\n",
       "       'получение образования', 'автомобиль', 'свадьба',\n",
       "       'получение дополнительного образования', 'покупка своего жилья',\n",
       "       'операции с недвижимостью', 'получение высшего образования',\n",
       "       'свой автомобиль', 'сделка с автомобилем',\n",
       "       'профильное образование', 'высшее образование',\n",
       "       'покупка жилья для сдачи', 'на покупку автомобиля', 'ремонт жилью',\n",
       "       'заняться высшим образованием'], dtype=object)"
      ]
     },
     "execution_count": 50,
     "metadata": {},
     "output_type": "execute_result"
    }
   ],
   "source": [
    "data['purpose'].unique()"
   ]
  },
  {
   "cell_type": "code",
   "execution_count": 51,
   "id": "a1e819e6",
   "metadata": {},
   "outputs": [],
   "source": [
    "def categorize_purpose(row):\n",
    "    try:\n",
    "        if 'автом' in row:\n",
    "            return 'операции с автомобилем'\n",
    "        elif 'жил' in row or 'недвиж' in row:\n",
    "            return 'операции с недвижимостью'\n",
    "        elif 'свад' in row:\n",
    "            return 'проведение свадьбы'\n",
    "        elif 'образов' in row:\n",
    "            return 'получение образования'\n",
    "    except:\n",
    "        return 'нет категории'"
   ]
  },
  {
   "cell_type": "code",
   "execution_count": 52,
   "id": "07847cd0",
   "metadata": {},
   "outputs": [],
   "source": [
    "data['purpose_category'] = data['purpose'].apply(categorize_purpose)"
   ]
  },
  {
   "cell_type": "markdown",
   "id": "5d089a45",
   "metadata": {},
   "source": [
    "### Этап 2. Исследование данных"
   ]
  },
  {
   "cell_type": "code",
   "execution_count": 53,
   "id": "1ec9e211",
   "metadata": {},
   "outputs": [
    {
     "name": "stdout",
     "output_type": "stream",
     "text": [
      "Детей в семье 0:  14091\n",
      "Детей в семье 1:  4808\n",
      "Детей в семье 2:  2052\n",
      "Детей в семье 3:  330\n",
      "Детей в семье 4:  41\n",
      "Детей в семье 5:  9\n"
     ]
    }
   ],
   "source": [
    "for children in range(0,6):\n",
    "    print(f'Детей в семье {children}: ', data[data['children'] == children]['children'].count())  "
   ]
  },
  {
   "cell_type": "code",
   "execution_count": 54,
   "id": "7898233c",
   "metadata": {},
   "outputs": [
    {
     "name": "stdout",
     "output_type": "stream",
     "text": [
      "Детей в семье 0:  163052.0998509687\n",
      "Детей в семье 1:  169194.9796173045\n",
      "Детей в семье 2:  169746.97270955166\n",
      "Детей в семье 3:  179460.30303030304\n",
      "Детей в семье 4:  166360.70731707316\n",
      "Детей в семье 5:  167336.88888888888\n"
     ]
    }
   ],
   "source": [
    "for income in range(0,6):\n",
    "    print(f'Детей в семье {income}: ', data[data['children'] == income]['total_income'].mean()) "
   ]
  },
  {
   "cell_type": "code",
   "execution_count": 55,
   "id": "51b0a7ee",
   "metadata": {},
   "outputs": [
    {
     "data": {
      "text/html": [
       "<div>\n",
       "<style scoped>\n",
       "    .dataframe tbody tr th:only-of-type {\n",
       "        vertical-align: middle;\n",
       "    }\n",
       "\n",
       "    .dataframe tbody tr th {\n",
       "        vertical-align: top;\n",
       "    }\n",
       "\n",
       "    .dataframe thead th {\n",
       "        text-align: right;\n",
       "    }\n",
       "</style>\n",
       "<table border=\"1\" class=\"dataframe\">\n",
       "  <thead>\n",
       "    <tr style=\"text-align: right;\">\n",
       "      <th></th>\n",
       "      <th>total</th>\n",
       "      <th>indebted</th>\n",
       "      <th>share, %</th>\n",
       "    </tr>\n",
       "    <tr>\n",
       "      <th>children</th>\n",
       "      <th></th>\n",
       "      <th></th>\n",
       "      <th></th>\n",
       "    </tr>\n",
       "  </thead>\n",
       "  <tbody>\n",
       "    <tr>\n",
       "      <th>5</th>\n",
       "      <td>9</td>\n",
       "      <td>0</td>\n",
       "      <td>0.00</td>\n",
       "    </tr>\n",
       "    <tr>\n",
       "      <th>0</th>\n",
       "      <td>14091</td>\n",
       "      <td>1063</td>\n",
       "      <td>7.54</td>\n",
       "    </tr>\n",
       "    <tr>\n",
       "      <th>3</th>\n",
       "      <td>330</td>\n",
       "      <td>27</td>\n",
       "      <td>8.18</td>\n",
       "    </tr>\n",
       "    <tr>\n",
       "      <th>1</th>\n",
       "      <td>4808</td>\n",
       "      <td>444</td>\n",
       "      <td>9.23</td>\n",
       "    </tr>\n",
       "    <tr>\n",
       "      <th>2</th>\n",
       "      <td>2052</td>\n",
       "      <td>194</td>\n",
       "      <td>9.45</td>\n",
       "    </tr>\n",
       "    <tr>\n",
       "      <th>4</th>\n",
       "      <td>41</td>\n",
       "      <td>4</td>\n",
       "      <td>9.76</td>\n",
       "    </tr>\n",
       "  </tbody>\n",
       "</table>\n",
       "</div>"
      ],
      "text/plain": [
       "          total  indebted  share, %\n",
       "children                           \n",
       "5             9         0      0.00\n",
       "0         14091      1063      7.54\n",
       "3           330        27      8.18\n",
       "1          4808       444      9.23\n",
       "2          2052       194      9.45\n",
       "4            41         4      9.76"
      ]
     },
     "metadata": {},
     "output_type": "display_data"
    }
   ],
   "source": [
    "children_result = data.pivot_table(index = ['children'], values = 'debt', aggfunc = {'count','sum'})\n",
    "children_result = children_result.rename(columns={'count':'total','sum':'indebted'})\n",
    "children_result['share, %'] = round(children_result['indebted'] / children_result['total']*100,2)\n",
    "children_result = children_result.sort_values(by='share, %', ascending=True)\n",
    "display(children_result)"
   ]
  },
  {
   "cell_type": "markdown",
   "id": "2dc1bf55",
   "metadata": {},
   "source": [
    "**Вывод**: По полученным данным видно, что семья с 1, 2, 4 детьми имеют чаще просроченную задолженность, чем семьи без детей, а семья с 3 детьми незначительно меньше (чем 1,2,4 детьми), возможно, это связано с тем, что средний доход у семьи с 3 детьми больше, чем у всех остальных. Однако, разница в процентах не сильно отличается. Так же, исходя из количества данных по разным категориям можно увидеть, что людей с детьми значительно меньше, чем без детей. Небольшая зависимость есть, но требуется гораздо больше выборки."
   ]
  },
  {
   "cell_type": "code",
   "execution_count": 56,
   "id": "01a895f8",
   "metadata": {},
   "outputs": [
    {
     "name": "stdout",
     "output_type": "stream",
     "text": [
      "Не женат / не замужем:  166552.38447782546\n",
      "в разводе:  167955.22708158116\n",
      "вдовец / вдова:  142559.78969505784\n",
      "гражданский брак:  164819.4092888244\n",
      "женат / замужем:  166757.1225838023\n"
     ]
    }
   ],
   "source": [
    "status = ['Не женат / не замужем', 'в разводе', 'вдовец / вдова', 'гражданский брак', 'женат / замужем']\n",
    "\n",
    "for income in status:\n",
    "    print(f'{income}: ', data[data['family_status'] == income]['total_income'].mean())  "
   ]
  },
  {
   "cell_type": "code",
   "execution_count": 57,
   "id": "897be5c2",
   "metadata": {},
   "outputs": [
    {
     "name": "stdout",
     "output_type": "stream",
     "text": [
      "Не женат / не замужем:  2796\n",
      "в разводе:  1189\n",
      "вдовец / вдова:  951\n",
      "гражданский брак:  4134\n",
      "женат / замужем:  12261\n"
     ]
    }
   ],
   "source": [
    "for income in status:\n",
    "    print(f'{income}: ', data[data['family_status'] == income]['total_income'].count())  "
   ]
  },
  {
   "cell_type": "code",
   "execution_count": 58,
   "id": "0dbd97c3",
   "metadata": {},
   "outputs": [],
   "source": [
    "data.loc[data['family_status'] == 'вдовец / вдова', 'family_status'] = 'в разводе'"
   ]
  },
  {
   "cell_type": "code",
   "execution_count": 59,
   "id": "413e8be5",
   "metadata": {},
   "outputs": [
    {
     "data": {
      "text/html": [
       "<div>\n",
       "<style scoped>\n",
       "    .dataframe tbody tr th:only-of-type {\n",
       "        vertical-align: middle;\n",
       "    }\n",
       "\n",
       "    .dataframe tbody tr th {\n",
       "        vertical-align: top;\n",
       "    }\n",
       "\n",
       "    .dataframe thead th {\n",
       "        text-align: right;\n",
       "    }\n",
       "</style>\n",
       "<table border=\"1\" class=\"dataframe\">\n",
       "  <thead>\n",
       "    <tr style=\"text-align: right;\">\n",
       "      <th></th>\n",
       "      <th>total</th>\n",
       "      <th>indebted</th>\n",
       "      <th>share, %</th>\n",
       "    </tr>\n",
       "    <tr>\n",
       "      <th>family_status</th>\n",
       "      <th></th>\n",
       "      <th></th>\n",
       "      <th></th>\n",
       "    </tr>\n",
       "  </thead>\n",
       "  <tbody>\n",
       "    <tr>\n",
       "      <th>в разводе</th>\n",
       "      <td>2140</td>\n",
       "      <td>147</td>\n",
       "      <td>6.87</td>\n",
       "    </tr>\n",
       "    <tr>\n",
       "      <th>женат / замужем</th>\n",
       "      <td>12261</td>\n",
       "      <td>927</td>\n",
       "      <td>7.56</td>\n",
       "    </tr>\n",
       "    <tr>\n",
       "      <th>гражданский брак</th>\n",
       "      <td>4134</td>\n",
       "      <td>385</td>\n",
       "      <td>9.31</td>\n",
       "    </tr>\n",
       "    <tr>\n",
       "      <th>Не женат / не замужем</th>\n",
       "      <td>2796</td>\n",
       "      <td>273</td>\n",
       "      <td>9.76</td>\n",
       "    </tr>\n",
       "  </tbody>\n",
       "</table>\n",
       "</div>"
      ],
      "text/plain": [
       "                       total  indebted  share, %\n",
       "family_status                                   \n",
       "в разводе               2140       147      6.87\n",
       "женат / замужем        12261       927      7.56\n",
       "гражданский брак        4134       385      9.31\n",
       "Не женат / не замужем   2796       273      9.76"
      ]
     },
     "metadata": {},
     "output_type": "display_data"
    }
   ],
   "source": [
    "family_result = data.pivot_table(index = ['family_status'], values = 'debt', aggfunc = {'count','sum'})\n",
    "family_result = family_result.rename(columns={'count':'total','sum':'indebted'})\n",
    "family_result['share, %'] = round(family_result['indebted'] / family_result['total']*100,2)\n",
    "family_result = family_result.sort_values(by='share, %', ascending=True)\n",
    "display(family_result)"
   ]
  },
  {
   "cell_type": "markdown",
   "id": "c1e88db0",
   "metadata": {},
   "source": [
    "**Вывод**: По полученным данным видно, что люди не в браке и те, кто в гражданском браке имеют чаще просроченную задолженность, чем с браком и в разводе, хотя уровень их дохода незначительно различается. Вдовы и вдовцы меньше просрочивают, хотя средний доход их значительно ниже, чем у остальных, да и по количеству их меньше. Имеет смысл объединить вдовцов и людей в разводе. После данного объединения, мы видим, что люди в разводе больше уплачивают кредит в срок. "
   ]
  },
  {
   "cell_type": "code",
   "execution_count": 60,
   "id": "9a460fca",
   "metadata": {},
   "outputs": [
    {
     "name": "stdout",
     "output_type": "stream",
     "text": [
      "A:  25\n",
      "B:  5014\n",
      "C:  15921\n",
      "D:  349\n",
      "E:  22\n"
     ]
    }
   ],
   "source": [
    "for income in ['A','B','C','D','E']:\n",
    "    print(f'{income}: ', data[data['total_income_category'] == income]['total_income_category'].count())   "
   ]
  },
  {
   "cell_type": "code",
   "execution_count": 61,
   "id": "22848c51",
   "metadata": {},
   "outputs": [
    {
     "data": {
      "text/html": [
       "<div>\n",
       "<style scoped>\n",
       "    .dataframe tbody tr th:only-of-type {\n",
       "        vertical-align: middle;\n",
       "    }\n",
       "\n",
       "    .dataframe tbody tr th {\n",
       "        vertical-align: top;\n",
       "    }\n",
       "\n",
       "    .dataframe thead th {\n",
       "        text-align: right;\n",
       "    }\n",
       "</style>\n",
       "<table border=\"1\" class=\"dataframe\">\n",
       "  <thead>\n",
       "    <tr style=\"text-align: right;\">\n",
       "      <th></th>\n",
       "      <th>total</th>\n",
       "      <th>indebted</th>\n",
       "      <th>share, %</th>\n",
       "    </tr>\n",
       "    <tr>\n",
       "      <th>total_income_category</th>\n",
       "      <th></th>\n",
       "      <th></th>\n",
       "      <th></th>\n",
       "    </tr>\n",
       "  </thead>\n",
       "  <tbody>\n",
       "    <tr>\n",
       "      <th>D</th>\n",
       "      <td>349</td>\n",
       "      <td>21</td>\n",
       "      <td>6.02</td>\n",
       "    </tr>\n",
       "    <tr>\n",
       "      <th>B</th>\n",
       "      <td>5014</td>\n",
       "      <td>354</td>\n",
       "      <td>7.06</td>\n",
       "    </tr>\n",
       "    <tr>\n",
       "      <th>A</th>\n",
       "      <td>25</td>\n",
       "      <td>2</td>\n",
       "      <td>8.00</td>\n",
       "    </tr>\n",
       "    <tr>\n",
       "      <th>C</th>\n",
       "      <td>15921</td>\n",
       "      <td>1353</td>\n",
       "      <td>8.50</td>\n",
       "    </tr>\n",
       "    <tr>\n",
       "      <th>E</th>\n",
       "      <td>22</td>\n",
       "      <td>2</td>\n",
       "      <td>9.09</td>\n",
       "    </tr>\n",
       "  </tbody>\n",
       "</table>\n",
       "</div>"
      ],
      "text/plain": [
       "                       total  indebted  share, %\n",
       "total_income_category                           \n",
       "D                        349        21      6.02\n",
       "B                       5014       354      7.06\n",
       "A                         25         2      8.00\n",
       "C                      15921      1353      8.50\n",
       "E                         22         2      9.09"
      ]
     },
     "metadata": {},
     "output_type": "display_data"
    }
   ],
   "source": [
    "income_result = data.pivot_table(index = ['total_income_category'], values = 'debt', aggfunc = {'count','sum'})\n",
    "income_result = income_result.rename(columns={'count':'total','sum':'indebted'})\n",
    "income_result['share, %'] = round(income_result['indebted'] / income_result['total']*100,2)\n",
    "income_result = income_result.sort_values(by='share, %', ascending=True)\n",
    "display(income_result)"
   ]
  },
  {
   "cell_type": "markdown",
   "id": "0ecc5878",
   "metadata": {},
   "source": [
    "**Вывод**: По полученным данным мы видим, что люди с низким доходом (категория E) чаще выплачивают платежи в срок, однако их количество (22) очень маленькое, так же как и людей с очень высоким доходом (категория A). Люди со средним доходом (74 % от данных) составляют 84% уплаты кредита в срок. "
   ]
  },
  {
   "cell_type": "code",
   "execution_count": 62,
   "id": "69e431d4",
   "metadata": {},
   "outputs": [
    {
     "data": {
      "text/html": [
       "<div>\n",
       "<style scoped>\n",
       "    .dataframe tbody tr th:only-of-type {\n",
       "        vertical-align: middle;\n",
       "    }\n",
       "\n",
       "    .dataframe tbody tr th {\n",
       "        vertical-align: top;\n",
       "    }\n",
       "\n",
       "    .dataframe thead th {\n",
       "        text-align: right;\n",
       "    }\n",
       "</style>\n",
       "<table border=\"1\" class=\"dataframe\">\n",
       "  <thead>\n",
       "    <tr style=\"text-align: right;\">\n",
       "      <th></th>\n",
       "      <th>total</th>\n",
       "      <th>indebted</th>\n",
       "      <th>share, %</th>\n",
       "    </tr>\n",
       "    <tr>\n",
       "      <th>purpose_category</th>\n",
       "      <th></th>\n",
       "      <th></th>\n",
       "      <th></th>\n",
       "    </tr>\n",
       "  </thead>\n",
       "  <tbody>\n",
       "    <tr>\n",
       "      <th>операции с недвижимостью</th>\n",
       "      <td>10751</td>\n",
       "      <td>780</td>\n",
       "      <td>7.26</td>\n",
       "    </tr>\n",
       "    <tr>\n",
       "      <th>проведение свадьбы</th>\n",
       "      <td>2313</td>\n",
       "      <td>183</td>\n",
       "      <td>7.91</td>\n",
       "    </tr>\n",
       "    <tr>\n",
       "      <th>получение образования</th>\n",
       "      <td>3988</td>\n",
       "      <td>369</td>\n",
       "      <td>9.25</td>\n",
       "    </tr>\n",
       "    <tr>\n",
       "      <th>операции с автомобилем</th>\n",
       "      <td>4279</td>\n",
       "      <td>400</td>\n",
       "      <td>9.35</td>\n",
       "    </tr>\n",
       "  </tbody>\n",
       "</table>\n",
       "</div>"
      ],
      "text/plain": [
       "                          total  indebted  share, %\n",
       "purpose_category                                   \n",
       "операции с недвижимостью  10751       780      7.26\n",
       "проведение свадьбы         2313       183      7.91\n",
       "получение образования      3988       369      9.25\n",
       "операции с автомобилем     4279       400      9.35"
      ]
     },
     "metadata": {},
     "output_type": "display_data"
    }
   ],
   "source": [
    "purpose_result = data.pivot_table(index = ['purpose_category'], values = 'debt', aggfunc = {'count','sum'})\n",
    "purpose_result = purpose_result.rename(columns={'count':'total','sum':'indebted'})\n",
    "purpose_result['share, %'] = round(purpose_result['indebted'] / purpose_result['total']*100,2)\n",
    "purpose_result = purpose_result.sort_values(by='share, %', ascending=True)\n",
    "display(purpose_result)"
   ]
  },
  {
   "cell_type": "markdown",
   "id": "1aa82c7b",
   "metadata": {},
   "source": [
    "**Вывод:** По полученным данным можно сделать вывод, что люди, которые берут кредит на авто и образование чаще просрочивают задолженность, чем на недвижимость и свадьбу. Люди с кредитом на недвижимость уплачивают чаще кредит в срок. "
   ]
  },
  {
   "cell_type": "markdown",
   "id": "04d2e3b9",
   "metadata": {},
   "source": [
    "### Общий вывод\n",
    "\n",
    "Было проведено исследование влияния различных факторов на факт погашения кредита в срок. Входные данные от банка - статистика платежеспособности клиента. Результаты исследования будут учтены при построении модели кредитного скоринга — специальной системы, которая оценивает способность потенциального заёмщика вернуть кредит банку.\n",
    "\n",
    "Перед проведением исследования были поставлены несколько гипотез:\n",
    "\n",
    "1. Количество детей влияет на факт погашения кредита в срок;\n",
    "2. Семейное положение влияет на факт погашения кредита в срок;\n",
    "3. Уровень дохода влияет на факт погашения кредита в срок;\n",
    "4. Цели кредита влияют на факт погашения кредита в срок.\n",
    "\n",
    "В ходе исследования были выявлены взаямосвязи во всех поставленных гипотез:\n",
    "\n",
    "Гипотеза 1. Количество детей влияет на факт погашения кредита в срок. \n",
    "\n",
    "Доля семей с просроченной задолженностью, имеющие от 1 до 4 детей составляет 7-8%, бездетные - 7,5%.\n",
    "\n",
    "С увеличением количества детей можно увидеть увеличение просроченной задолженности, а люди, не имеющие детей, реже просрочивают оплату по кредиту. Это связано с тем, что семьи без детей меньше обременены финансовыми обязательствами. Однако, данных недостаточно, требуется больше данных о семьях с детьми для выборки.\n",
    "\n",
    "Так же, хочется отметить, что можно включить сюда возраст детей. Возможно, дети уже живут отдельно от своих родителей и им не нужна финансовая поддержка от них.\n",
    "\n",
    "Гипотеза 2. Семейное положение влияет на факт погашения кредита в срок. \n",
    "\n",
    "Так как у категории вдов и вдовцов было меньше выборки, то они были объединены в категорию людей в разводе, у которых доля людей с просроченной задолженностью была примерно одинакова.\n",
    "\n",
    "Доля людей, находящиеся в разводе с просроченной задолженностью составляют 6,87%, в браке - 7,56 %, в гражданском браке и неженатые / незамужние - 9 %.  \n",
    "\n",
    "Люди, находящиеся в гражданском браке и незамужние чаще имеют просроченную задолженность, чем люди в разводе. Так, в гражданском браке, возможно, люди ведут \"раздельный бюджет\", что увеличивает риск просрочить кредит, так же можно сказать о неженатых / незамужних.\n",
    "\n",
    "Люди, находящиеся в браке, возможно, лучше планируют свой совместный-семейный бюджет и более ответственно относятся к своим финансовым обязательствам. Что касается людей в разводе, - возможно, они брали кредит, когда находились в браке, что заставляет бывших супруг оплачивать обязательство вдвоем или же они, как и вдовы/вдовцы, понимают, что будучи одними нужно полагаться только на себя, а значит ответственно относиться к своим обязательствам. \n",
    "\n",
    "Гипотеза 3. Данная гипотеза о влиянии уровня дохода и погашения кредита в срок частично подтверждена.\n",
    "\n",
    "Исходя из результатов исследования, люди с низким доходом реже всего просрочивают задолженность, чем люди, имеющие более высокий доход. Однако, по этим данным нельзя сделать вывод, т.к. выборки очень мало. Так же, влияет тот факт, что в данных были допущены пропуски, что делает общую картину более неочевидной.\n",
    "\n",
    "Гипотеза 4. Цели кредита влияют на факт погашения кредита в срок. \n",
    "\n",
    "Доля людей, оформляющие кредит на недвижимость и имеют просроченную задолженность составляют 7,26 %, на свадьбу - 7,91 %, на образование - 9,25 %, на автомобиль - 9,35 %.\n",
    "\n",
    "Из этого следует, что меньше всего просроченная задолженность наблюдается у тех людей, кто берет кредит на недвижимость и на свадьбу, чем на образование и автомобиль. \n",
    "\n",
    "Подводя итог, были вынесены следующие рекомендации:\n",
    "\n",
    "1. Специалистам, которые занимаются построением модели кредитного скоринга, можно использовать зависимости из второй и четвертой гипотезы (Семейное положение и цели кредита).\n",
    "\n",
    "2. Необходимо собрать более полную выборку для повторной проверки первой и третьей гипотезы и включить возраст детей для более детального анализа. "
   ]
  }
 ],
 "metadata": {
  "kernelspec": {
   "display_name": "Python 3 (ipykernel)",
   "language": "python",
   "name": "python3"
  },
  "language_info": {
   "codemirror_mode": {
    "name": "ipython",
    "version": 3
   },
   "file_extension": ".py",
   "mimetype": "text/x-python",
   "name": "python",
   "nbconvert_exporter": "python",
   "pygments_lexer": "ipython3",
   "version": "3.9.13"
  }
 },
 "nbformat": 4,
 "nbformat_minor": 5
}
